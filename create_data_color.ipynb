{
 "cells": [
  {
   "cell_type": "markdown",
   "metadata": {},
   "source": [
    "# This notebook is used to create the data clothes csv file given a folder of images"
   ]
  },
  {
   "cell_type": "code",
   "execution_count": 2,
   "metadata": {},
   "outputs": [],
   "source": [
    "%load_ext autoreload\n",
    "%autoreload 2"
   ]
  },
  {
   "cell_type": "code",
   "execution_count": 1,
   "metadata": {},
   "outputs": [],
   "source": [
    "import matplotlib.pyplot as plt\n",
    "import scripts.clothes_extraction as ce\n",
    "import pandas as pd"
   ]
  },
  {
   "cell_type": "markdown",
   "metadata": {},
   "source": [
    "# Var"
   ]
  },
  {
   "cell_type": "code",
   "execution_count": 2,
   "metadata": {},
   "outputs": [],
   "source": [
    "PATH_SAVE_DATA = \"static/clothes_data.csv\"\n"
   ]
  },
  {
   "cell_type": "markdown",
   "metadata": {},
   "source": [
    "# Load color dataframe"
   ]
  },
  {
   "cell_type": "code",
   "execution_count": 3,
   "metadata": {},
   "outputs": [
    {
     "data": {
      "text/html": [
       "<div>\n",
       "<style scoped>\n",
       "    .dataframe tbody tr th:only-of-type {\n",
       "        vertical-align: middle;\n",
       "    }\n",
       "\n",
       "    .dataframe tbody tr th {\n",
       "        vertical-align: top;\n",
       "    }\n",
       "\n",
       "    .dataframe thead th {\n",
       "        text-align: right;\n",
       "    }\n",
       "</style>\n",
       "<table border=\"1\" class=\"dataframe\">\n",
       "  <thead>\n",
       "    <tr style=\"text-align: right;\">\n",
       "      <th></th>\n",
       "      <th>color</th>\n",
       "      <th>R</th>\n",
       "      <th>G</th>\n",
       "      <th>B</th>\n",
       "    </tr>\n",
       "  </thead>\n",
       "  <tbody>\n",
       "    <tr>\n",
       "      <th>0</th>\n",
       "      <td>Yellow</td>\n",
       "      <td>255</td>\n",
       "      <td>255</td>\n",
       "      <td>0</td>\n",
       "    </tr>\n",
       "    <tr>\n",
       "      <th>1</th>\n",
       "      <td>Red</td>\n",
       "      <td>255</td>\n",
       "      <td>0</td>\n",
       "      <td>0</td>\n",
       "    </tr>\n",
       "    <tr>\n",
       "      <th>2</th>\n",
       "      <td>Blue</td>\n",
       "      <td>0</td>\n",
       "      <td>0</td>\n",
       "      <td>255</td>\n",
       "    </tr>\n",
       "    <tr>\n",
       "      <th>3</th>\n",
       "      <td>Green</td>\n",
       "      <td>0</td>\n",
       "      <td>255</td>\n",
       "      <td>0</td>\n",
       "    </tr>\n",
       "    <tr>\n",
       "      <th>4</th>\n",
       "      <td>Orange</td>\n",
       "      <td>255</td>\n",
       "      <td>165</td>\n",
       "      <td>0</td>\n",
       "    </tr>\n",
       "  </tbody>\n",
       "</table>\n",
       "</div>"
      ],
      "text/plain": [
       "    color    R    G    B\n",
       "0  Yellow  255  255    0\n",
       "1     Red  255    0    0\n",
       "2    Blue    0    0  255\n",
       "3   Green    0  255    0\n",
       "4  Orange  255  165    0"
      ]
     },
     "execution_count": 3,
     "metadata": {},
     "output_type": "execute_result"
    }
   ],
   "source": [
    "data_color = pd.DataFrame({\n",
    "    'color': ['Yellow', 'Red', 'Blue', 'Green', 'Orange', 'Brown', 'Black', 'White', 'Pink', 'Purple', 'Grey', 'Beige', 'Beige'],\n",
    "    'R': [255, 255, 0, 0, 255, 139, 0, 255, 255, 128, 128, 245, 131],\n",
    "    'G': [255, 0, 0, 255, 165, 69, 0, 255, 192, 0, 128, 245, 110],\n",
    "    'B': [0, 0, 255, 0, 0, 19, 0, 255, 203, 128, 128, 220, 89]\n",
    "})\n",
    "\n",
    "### we add more color range\n",
    "additional_data = pd.DataFrame({\n",
    "    'color': [        'Yellow', 'Yellow', 'Red', 'Red',         'Blue', 'Blue', 'Green', 'Green',         'Orange', 'Orange', 'Brown', 'Brown',         'Black', 'Black', 'White', 'White',         'Pink', 'Pink', 'Purple', 'Purple',         'Grey', 'Grey', 'Beige', 'Beige', 'Turquoise', 'Turquoise', 'Gold', 'Gold',         'Silver', 'Silver'\n",
    "    ],\n",
    "    'R': [        255, 204, 255, 204,         173, 0, 173, 0,         255, 204, 165, 96,         76, 51, 255, 255,         255, 204, 191, 96,         192, 96, 255, 196,         178, 0, 255, 204,         211, 153\n",
    "    ],\n",
    "    'G': [        255, 204, 102, 0,         214, 0, 214, 85,         195, 106, 85, 35,         76, 51, 255, 255,         224, 153, 153, 0,         192, 96, 255, 196,         242, 128, 255, 204,         211, 153\n",
    "    ],\n",
    "    'B': [        153, 0, 153, 0,         255, 128, 153, 0,         0, 0, 42, 0,         76, 51, 255, 255,         203, 102, 255, 128,         192, 96, 245, 176,         255, 0, 0, 0,         211, 153\n",
    "    ]\n",
    "})\n",
    "\n",
    "# Concatenate\n",
    "data_color = pd.concat([data_color, additional_data], ignore_index=True)\n",
    "data_color.head()"
   ]
  },
  {
   "cell_type": "markdown",
   "metadata": {},
   "source": [
    "# Save the data csv"
   ]
  },
  {
   "cell_type": "code",
   "execution_count": 21,
   "metadata": {},
   "outputs": [],
   "source": [
    "data_color.to_csv(PATH_SAVE_DATA, index= False)"
   ]
  }
 ],
 "metadata": {
  "kernelspec": {
   "display_name": "ultra",
   "language": "python",
   "name": "python3"
  },
  "language_info": {
   "codemirror_mode": {
    "name": "ipython",
    "version": 3
   },
   "file_extension": ".py",
   "mimetype": "text/x-python",
   "name": "python",
   "nbconvert_exporter": "python",
   "pygments_lexer": "ipython3",
   "version": "3.12.3"
  }
 },
 "nbformat": 4,
 "nbformat_minor": 2
}
