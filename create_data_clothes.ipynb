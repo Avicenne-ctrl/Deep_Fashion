{
 "cells": [
  {
   "cell_type": "markdown",
   "metadata": {},
   "source": [
    "# This notebook is used to create the data clothes csv file given a folder of images"
   ]
  },
  {
   "cell_type": "code",
   "execution_count": 68,
   "metadata": {},
   "outputs": [
    {
     "name": "stdout",
     "output_type": "stream",
     "text": [
      "The autoreload extension is already loaded. To reload it, use:\n",
      "  %reload_ext autoreload\n"
     ]
    }
   ],
   "source": [
    "%load_ext autoreload\n",
    "%autoreload 2"
   ]
  },
  {
   "cell_type": "code",
   "execution_count": 69,
   "metadata": {},
   "outputs": [
    {
     "data": {
      "text/plain": [
       "['config.ini']"
      ]
     },
     "execution_count": 69,
     "metadata": {},
     "output_type": "execute_result"
    }
   ],
   "source": [
    "import sys\n",
    "import matplotlib.pyplot as plt\n",
    "import scripts.main_utilities as mu\n",
    "import roboflow\n",
    "import pandas as pd\n",
    "import numpy as np\n",
    "from roboflow import Roboflow\n",
    "import os\n",
    "import torch\n",
    "from ultralytics import YOLO\n",
    "import configparser\n",
    "\n",
    "# Read config file\n",
    "config = configparser.ConfigParser()\n",
    "config.read('config.ini')"
   ]
  },
  {
   "cell_type": "markdown",
   "metadata": {},
   "source": [
    "# Var"
   ]
  },
  {
   "cell_type": "code",
   "execution_count": 70,
   "metadata": {},
   "outputs": [],
   "source": [
    "\n",
    "PATH_IMAGES_FOLDER  = config[\"PATH\"][\"PATH_IMAGES_FOLDER\"]\n",
    "PATH_DATA_COLOR     = config[\"PATH\"][\"PATH_DATA_COLOR\"]\n",
    "PATH_SAVE_DATA      = config[\"PATH\"][\"PATH_SAVE_DATA\"]\n",
    "\n",
    "YOLO_MODEL          = config[\"MODEL\"][\"YOLO_MODEL\"]\n",
    "ROBOFLOW_MODEL      = config[\"MODEL\"][\"ROBOFLOW_MODEL\"]\n",
    "\n",
    "EXTENSION_IMG       = [\"jpeg\", 'png']"
   ]
  },
  {
   "cell_type": "markdown",
   "metadata": {},
   "source": [
    "# Model"
   ]
  },
  {
   "cell_type": "code",
   "execution_count": 71,
   "metadata": {},
   "outputs": [
    {
     "name": "stdout",
     "output_type": "stream",
     "text": [
      "loading Roboflow workspace...\n",
      "loading Roboflow project...\n"
     ]
    }
   ],
   "source": [
    "device = torch.device('cpu')\n",
    "os.environ[\"KMP_DUPLICATE_LIB_OK\"] = \"TRUE\"\n",
    "MODEL_DETECT_OBJ    = YOLO(YOLO_MODEL)\n",
    "MODEL_DETECT_OBJ.to(device) \n",
    "\n",
    "# Token Roboflow\n",
    "roboflow_token = os.getenv(\"ROBOFLOW_TOKEN\")\n",
    "# Connect to Roboflow\n",
    "#roboflow.login()\n",
    "rf = Roboflow(roboflow_token)\n",
    "\n",
    "# Load pretrained model for clothes recognition\n",
    "project = rf.workspace().project(ROBOFLOW_MODEL)\n",
    "fashion = project.version(4).model"
   ]
  },
  {
   "cell_type": "markdown",
   "metadata": {},
   "source": [
    "# Extract images of the folder"
   ]
  },
  {
   "cell_type": "code",
   "execution_count": 50,
   "metadata": {},
   "outputs": [
    {
     "data": {
      "text/plain": [
       "['static/images/asap_rocky_outfit.jpeg',\n",
       " 'static/images/asap_rocky_outfit7.jpeg',\n",
       " 'static/images/outfit1.jpeg',\n",
       " 'static/images/asap_rocky_outfit10.jpeg',\n",
       " 'static/images/asap_rocky_outfit11.jpeg',\n",
       " 'static/images/asap1.jpeg',\n",
       " 'static/images/asap_rocky_outfit1.jpeg',\n",
       " 'static/images/eminem.jpeg']"
      ]
     },
     "execution_count": 50,
     "metadata": {},
     "output_type": "execute_result"
    }
   ],
   "source": [
    "path_img_list, img_names = mu.get_extension_folder(PATH_IMAGES_FOLDER, EXTENSION_IMG)\n",
    "path_img_list"
   ]
  },
  {
   "cell_type": "markdown",
   "metadata": {},
   "source": [
    "# Load color dataframe"
   ]
  },
  {
   "cell_type": "code",
   "execution_count": 51,
   "metadata": {},
   "outputs": [
    {
     "data": {
      "text/html": [
       "<div>\n",
       "<style scoped>\n",
       "    .dataframe tbody tr th:only-of-type {\n",
       "        vertical-align: middle;\n",
       "    }\n",
       "\n",
       "    .dataframe tbody tr th {\n",
       "        vertical-align: top;\n",
       "    }\n",
       "\n",
       "    .dataframe thead th {\n",
       "        text-align: right;\n",
       "    }\n",
       "</style>\n",
       "<table border=\"1\" class=\"dataframe\">\n",
       "  <thead>\n",
       "    <tr style=\"text-align: right;\">\n",
       "      <th></th>\n",
       "      <th>color</th>\n",
       "      <th>R</th>\n",
       "      <th>G</th>\n",
       "      <th>B</th>\n",
       "    </tr>\n",
       "  </thead>\n",
       "  <tbody>\n",
       "    <tr>\n",
       "      <th>0</th>\n",
       "      <td>Yellow</td>\n",
       "      <td>255</td>\n",
       "      <td>255</td>\n",
       "      <td>0</td>\n",
       "    </tr>\n",
       "    <tr>\n",
       "      <th>1</th>\n",
       "      <td>Red</td>\n",
       "      <td>255</td>\n",
       "      <td>0</td>\n",
       "      <td>0</td>\n",
       "    </tr>\n",
       "    <tr>\n",
       "      <th>2</th>\n",
       "      <td>Blue</td>\n",
       "      <td>0</td>\n",
       "      <td>0</td>\n",
       "      <td>255</td>\n",
       "    </tr>\n",
       "    <tr>\n",
       "      <th>3</th>\n",
       "      <td>Green</td>\n",
       "      <td>0</td>\n",
       "      <td>255</td>\n",
       "      <td>0</td>\n",
       "    </tr>\n",
       "    <tr>\n",
       "      <th>4</th>\n",
       "      <td>Orange</td>\n",
       "      <td>255</td>\n",
       "      <td>165</td>\n",
       "      <td>0</td>\n",
       "    </tr>\n",
       "  </tbody>\n",
       "</table>\n",
       "</div>"
      ],
      "text/plain": [
       "    color    R    G    B\n",
       "0  Yellow  255  255    0\n",
       "1     Red  255    0    0\n",
       "2    Blue    0    0  255\n",
       "3   Green    0  255    0\n",
       "4  Orange  255  165    0"
      ]
     },
     "execution_count": 51,
     "metadata": {},
     "output_type": "execute_result"
    }
   ],
   "source": [
    "data_color = pd.read_csv(PATH_DATA_COLOR)\n",
    "data_color.head()"
   ]
  },
  {
   "cell_type": "markdown",
   "metadata": {},
   "source": [
    "# Load img path with plt.imread()"
   ]
  },
  {
   "cell_type": "code",
   "execution_count": 52,
   "metadata": {},
   "outputs": [],
   "source": [
    "img_list = [plt.imread(i) for i in path_img_list]"
   ]
  },
  {
   "cell_type": "markdown",
   "metadata": {},
   "source": [
    "# Extract data clothes from img"
   ]
  },
  {
   "cell_type": "code",
   "execution_count": 58,
   "metadata": {},
   "outputs": [
    {
     "name": "stdout",
     "output_type": "stream",
     "text": [
      "[INFO] : 1 person found\n",
      "['shirt', 'jacket', 't-shirt', 'tee shirt', 'polar', 'Tshirt']\n",
      "['pants', 'cargo']\n",
      "[INFO] : 1 outfit found\n",
      "bottom : Sari\n",
      "[INFO] : 4 person found\n",
      "['shirt', 'jacket', 't-shirt', 'tee shirt', 'polar', 'Tshirt']\n",
      "['pants', 'cargo']\n"
     ]
    },
    {
     "name": "stderr",
     "output_type": "stream",
     "text": [
      "X does not have valid feature names, but NearestNeighbors was fitted with feature names\n"
     ]
    },
    {
     "name": "stdout",
     "output_type": "stream",
     "text": [
      "[INFO] : 3 outfit found\n",
      "top : Tshirt\n",
      "bottom : Pant\n",
      "top : shirt\n",
      "['shirt', 'jacket', 't-shirt', 'tee shirt', 'polar', 'Tshirt']\n",
      "['pants', 'cargo']\n"
     ]
    },
    {
     "name": "stderr",
     "output_type": "stream",
     "text": [
      "X does not have valid feature names, but NearestNeighbors was fitted with feature names\n",
      "X does not have valid feature names, but NearestNeighbors was fitted with feature names\n",
      "X does not have valid feature names, but NearestNeighbors was fitted with feature names\n"
     ]
    },
    {
     "name": "stdout",
     "output_type": "stream",
     "text": [
      "[INFO] : 1 outfit found\n",
      "top : shirt\n",
      "['shirt', 'jacket', 't-shirt', 'tee shirt', 'polar', 'Tshirt']\n",
      "['pants', 'cargo']\n"
     ]
    },
    {
     "name": "stderr",
     "output_type": "stream",
     "text": [
      "X does not have valid feature names, but NearestNeighbors was fitted with feature names\n"
     ]
    },
    {
     "name": "stdout",
     "output_type": "stream",
     "text": [
      "[INFO] : 0 outfit found\n",
      "['shirt', 'jacket', 't-shirt', 'tee shirt', 'polar', 'Tshirt']\n",
      "['pants', 'cargo']\n",
      "[INFO] : 1 outfit found\n",
      "top : shirt\n",
      "[INFO] : 2 person found\n",
      "['shirt', 'jacket', 't-shirt', 'tee shirt', 'polar', 'Tshirt']\n",
      "['pants', 'cargo']\n"
     ]
    },
    {
     "name": "stderr",
     "output_type": "stream",
     "text": [
      "X does not have valid feature names, but NearestNeighbors was fitted with feature names\n"
     ]
    },
    {
     "name": "stdout",
     "output_type": "stream",
     "text": [
      "[INFO] : 1 outfit found\n",
      "top : shirt\n",
      "['shirt', 'jacket', 't-shirt', 'tee shirt', 'polar', 'Tshirt']\n",
      "['pants', 'cargo']\n"
     ]
    },
    {
     "name": "stderr",
     "output_type": "stream",
     "text": [
      "X does not have valid feature names, but NearestNeighbors was fitted with feature names\n"
     ]
    },
    {
     "name": "stdout",
     "output_type": "stream",
     "text": [
      "[INFO] : 0 outfit found\n",
      "[INFO] : 2 person found\n",
      "['shirt', 'jacket', 't-shirt', 'tee shirt', 'polar', 'Tshirt']\n",
      "['pants', 'cargo']\n",
      "[INFO] : 1 outfit found\n",
      "top : Tshirt\n",
      "['shirt', 'jacket', 't-shirt', 'tee shirt', 'polar', 'Tshirt']\n",
      "['pants', 'cargo']\n"
     ]
    },
    {
     "name": "stderr",
     "output_type": "stream",
     "text": [
      "X does not have valid feature names, but NearestNeighbors was fitted with feature names\n"
     ]
    },
    {
     "name": "stdout",
     "output_type": "stream",
     "text": [
      "[INFO] : 1 outfit found\n",
      "top : shirt\n",
      "[INFO] : 1 person found\n",
      "['shirt', 'jacket', 't-shirt', 'tee shirt', 'polar', 'Tshirt']\n",
      "['pants', 'cargo']\n"
     ]
    },
    {
     "name": "stderr",
     "output_type": "stream",
     "text": [
      "X does not have valid feature names, but NearestNeighbors was fitted with feature names\n"
     ]
    },
    {
     "name": "stdout",
     "output_type": "stream",
     "text": [
      "[INFO] : 1 outfit found\n",
      "top : Tshirt\n",
      "[INFO] : 2 person found\n",
      "['shirt', 'jacket', 't-shirt', 'tee shirt', 'polar', 'Tshirt']\n",
      "['pants', 'cargo']\n"
     ]
    },
    {
     "name": "stderr",
     "output_type": "stream",
     "text": [
      "X does not have valid feature names, but NearestNeighbors was fitted with feature names\n"
     ]
    },
    {
     "name": "stdout",
     "output_type": "stream",
     "text": [
      "[INFO] : 1 outfit found\n",
      "top : Tshirt\n",
      "['shirt', 'jacket', 't-shirt', 'tee shirt', 'polar', 'Tshirt']\n",
      "['pants', 'cargo']\n"
     ]
    },
    {
     "name": "stderr",
     "output_type": "stream",
     "text": [
      "X does not have valid feature names, but NearestNeighbors was fitted with feature names\n"
     ]
    },
    {
     "name": "stdout",
     "output_type": "stream",
     "text": [
      "[INFO] : 1 outfit found\n",
      "top : Tshirt\n",
      "[INFO] : 1 person found\n",
      "['shirt', 'jacket', 't-shirt', 'tee shirt', 'polar', 'Tshirt']\n",
      "['pants', 'cargo']\n"
     ]
    },
    {
     "name": "stderr",
     "output_type": "stream",
     "text": [
      "X does not have valid feature names, but NearestNeighbors was fitted with feature names\n"
     ]
    },
    {
     "name": "stdout",
     "output_type": "stream",
     "text": [
      "[INFO] : 1 outfit found\n",
      "top : Tshirt\n",
      "[INFO] : 3 person found\n",
      "['shirt', 'jacket', 't-shirt', 'tee shirt', 'polar', 'Tshirt']\n",
      "['pants', 'cargo']\n"
     ]
    },
    {
     "name": "stderr",
     "output_type": "stream",
     "text": [
      "X does not have valid feature names, but NearestNeighbors was fitted with feature names\n"
     ]
    },
    {
     "name": "stdout",
     "output_type": "stream",
     "text": [
      "[INFO] : 1 outfit found\n",
      "top : shirt\n",
      "['shirt', 'jacket', 't-shirt', 'tee shirt', 'polar', 'Tshirt']\n",
      "['pants', 'cargo']\n"
     ]
    },
    {
     "name": "stderr",
     "output_type": "stream",
     "text": [
      "X does not have valid feature names, but NearestNeighbors was fitted with feature names\n"
     ]
    },
    {
     "name": "stdout",
     "output_type": "stream",
     "text": [
      "[INFO] : 1 outfit found\n",
      "top : Tshirt\n",
      "['shirt', 'jacket', 't-shirt', 'tee shirt', 'polar', 'Tshirt']\n",
      "['pants', 'cargo']\n"
     ]
    },
    {
     "name": "stderr",
     "output_type": "stream",
     "text": [
      "X does not have valid feature names, but NearestNeighbors was fitted with feature names\n"
     ]
    },
    {
     "name": "stdout",
     "output_type": "stream",
     "text": [
      "[INFO] : 1 outfit found\n",
      "top : Tshirt\n"
     ]
    },
    {
     "name": "stderr",
     "output_type": "stream",
     "text": [
      "X does not have valid feature names, but NearestNeighbors was fitted with feature names\n"
     ]
    },
    {
     "data": {
      "text/html": [
       "<div>\n",
       "<style scoped>\n",
       "    .dataframe tbody tr th:only-of-type {\n",
       "        vertical-align: middle;\n",
       "    }\n",
       "\n",
       "    .dataframe tbody tr th {\n",
       "        vertical-align: top;\n",
       "    }\n",
       "\n",
       "    .dataframe thead th {\n",
       "        text-align: right;\n",
       "    }\n",
       "</style>\n",
       "<table border=\"1\" class=\"dataframe\">\n",
       "  <thead>\n",
       "    <tr style=\"text-align: right;\">\n",
       "      <th></th>\n",
       "      <th>bottom</th>\n",
       "      <th>bottom_color</th>\n",
       "      <th>top</th>\n",
       "      <th>top_color</th>\n",
       "      <th>id</th>\n",
       "    </tr>\n",
       "  </thead>\n",
       "  <tbody>\n",
       "    <tr>\n",
       "      <th>0</th>\n",
       "      <td>Sari</td>\n",
       "      <td>black</td>\n",
       "      <td>NaN</td>\n",
       "      <td>NaN</td>\n",
       "      <td>asap_rocky_outfit.jpeg</td>\n",
       "    </tr>\n",
       "    <tr>\n",
       "      <th>0</th>\n",
       "      <td>Pant</td>\n",
       "      <td>grey</td>\n",
       "      <td>shirt</td>\n",
       "      <td>beige</td>\n",
       "      <td>asap_rocky_outfit7.jpeg</td>\n",
       "    </tr>\n",
       "    <tr>\n",
       "      <th>0</th>\n",
       "      <td>NaN</td>\n",
       "      <td>NaN</td>\n",
       "      <td>shirt</td>\n",
       "      <td>grey</td>\n",
       "      <td>asap_rocky_outfit7.jpeg</td>\n",
       "    </tr>\n",
       "    <tr>\n",
       "      <th>0</th>\n",
       "      <td>NaN</td>\n",
       "      <td>NaN</td>\n",
       "      <td>shirt</td>\n",
       "      <td>silver</td>\n",
       "      <td>asap_rocky_outfit7.jpeg</td>\n",
       "    </tr>\n",
       "    <tr>\n",
       "      <th>0</th>\n",
       "      <td>NaN</td>\n",
       "      <td>NaN</td>\n",
       "      <td>shirt</td>\n",
       "      <td>silver</td>\n",
       "      <td>outfit1.jpeg</td>\n",
       "    </tr>\n",
       "  </tbody>\n",
       "</table>\n",
       "</div>"
      ],
      "text/plain": [
       "  bottom bottom_color    top top_color                       id\n",
       "0   Sari        black    NaN       NaN   asap_rocky_outfit.jpeg\n",
       "0   Pant         grey  shirt     beige  asap_rocky_outfit7.jpeg\n",
       "0    NaN          NaN  shirt      grey  asap_rocky_outfit7.jpeg\n",
       "0    NaN          NaN  shirt    silver  asap_rocky_outfit7.jpeg\n",
       "0    NaN          NaN  shirt    silver             outfit1.jpeg"
      ]
     },
     "execution_count": 58,
     "metadata": {},
     "output_type": "execute_result"
    }
   ],
   "source": [
    "data_clothes_ = mu.detect_outfit_color_batch(img_list, img_names, MODEL_DETECT_OBJ, fashion, data_color)\n",
    "data_clothes_.head()"
   ]
  },
  {
   "cell_type": "markdown",
   "metadata": {},
   "source": [
    "# Save the data csv"
   ]
  },
  {
   "cell_type": "code",
   "execution_count": 60,
   "metadata": {},
   "outputs": [],
   "source": [
    "data_clothes_.to_csv(PATH_SAVE_DATA, index= False)"
   ]
  },
  {
   "cell_type": "code",
   "execution_count": 59,
   "metadata": {},
   "outputs": [
    {
     "data": {
      "text/html": [
       "<div>\n",
       "<style scoped>\n",
       "    .dataframe tbody tr th:only-of-type {\n",
       "        vertical-align: middle;\n",
       "    }\n",
       "\n",
       "    .dataframe tbody tr th {\n",
       "        vertical-align: top;\n",
       "    }\n",
       "\n",
       "    .dataframe thead th {\n",
       "        text-align: right;\n",
       "    }\n",
       "</style>\n",
       "<table border=\"1\" class=\"dataframe\">\n",
       "  <thead>\n",
       "    <tr style=\"text-align: right;\">\n",
       "      <th></th>\n",
       "      <th>bottom</th>\n",
       "      <th>bottom_color</th>\n",
       "      <th>top</th>\n",
       "      <th>top_color</th>\n",
       "      <th>id</th>\n",
       "    </tr>\n",
       "  </thead>\n",
       "  <tbody>\n",
       "    <tr>\n",
       "      <th>0</th>\n",
       "      <td>Sari</td>\n",
       "      <td>black</td>\n",
       "      <td>NaN</td>\n",
       "      <td>NaN</td>\n",
       "      <td>asap_rocky_outfit.jpeg</td>\n",
       "    </tr>\n",
       "    <tr>\n",
       "      <th>0</th>\n",
       "      <td>Pant</td>\n",
       "      <td>grey</td>\n",
       "      <td>shirt</td>\n",
       "      <td>beige</td>\n",
       "      <td>asap_rocky_outfit7.jpeg</td>\n",
       "    </tr>\n",
       "    <tr>\n",
       "      <th>0</th>\n",
       "      <td>NaN</td>\n",
       "      <td>NaN</td>\n",
       "      <td>shirt</td>\n",
       "      <td>grey</td>\n",
       "      <td>asap_rocky_outfit7.jpeg</td>\n",
       "    </tr>\n",
       "    <tr>\n",
       "      <th>0</th>\n",
       "      <td>NaN</td>\n",
       "      <td>NaN</td>\n",
       "      <td>shirt</td>\n",
       "      <td>silver</td>\n",
       "      <td>asap_rocky_outfit7.jpeg</td>\n",
       "    </tr>\n",
       "    <tr>\n",
       "      <th>0</th>\n",
       "      <td>NaN</td>\n",
       "      <td>NaN</td>\n",
       "      <td>shirt</td>\n",
       "      <td>silver</td>\n",
       "      <td>outfit1.jpeg</td>\n",
       "    </tr>\n",
       "    <tr>\n",
       "      <th>0</th>\n",
       "      <td>NaN</td>\n",
       "      <td>NaN</td>\n",
       "      <td>Tshirt</td>\n",
       "      <td>grey</td>\n",
       "      <td>asap_rocky_outfit10.jpeg</td>\n",
       "    </tr>\n",
       "    <tr>\n",
       "      <th>0</th>\n",
       "      <td>NaN</td>\n",
       "      <td>NaN</td>\n",
       "      <td>shirt</td>\n",
       "      <td>black</td>\n",
       "      <td>asap_rocky_outfit10.jpeg</td>\n",
       "    </tr>\n",
       "    <tr>\n",
       "      <th>0</th>\n",
       "      <td>NaN</td>\n",
       "      <td>NaN</td>\n",
       "      <td>Tshirt</td>\n",
       "      <td>grey</td>\n",
       "      <td>asap_rocky_outfit11.jpeg</td>\n",
       "    </tr>\n",
       "    <tr>\n",
       "      <th>0</th>\n",
       "      <td>NaN</td>\n",
       "      <td>NaN</td>\n",
       "      <td>Tshirt</td>\n",
       "      <td>black</td>\n",
       "      <td>asap1.jpeg</td>\n",
       "    </tr>\n",
       "    <tr>\n",
       "      <th>0</th>\n",
       "      <td>NaN</td>\n",
       "      <td>NaN</td>\n",
       "      <td>Tshirt</td>\n",
       "      <td>grey</td>\n",
       "      <td>asap1.jpeg</td>\n",
       "    </tr>\n",
       "    <tr>\n",
       "      <th>0</th>\n",
       "      <td>NaN</td>\n",
       "      <td>NaN</td>\n",
       "      <td>Tshirt</td>\n",
       "      <td>beige</td>\n",
       "      <td>asap_rocky_outfit1.jpeg</td>\n",
       "    </tr>\n",
       "    <tr>\n",
       "      <th>0</th>\n",
       "      <td>NaN</td>\n",
       "      <td>NaN</td>\n",
       "      <td>shirt</td>\n",
       "      <td>grey</td>\n",
       "      <td>eminem.jpeg</td>\n",
       "    </tr>\n",
       "    <tr>\n",
       "      <th>0</th>\n",
       "      <td>NaN</td>\n",
       "      <td>NaN</td>\n",
       "      <td>Tshirt</td>\n",
       "      <td>black</td>\n",
       "      <td>eminem.jpeg</td>\n",
       "    </tr>\n",
       "    <tr>\n",
       "      <th>0</th>\n",
       "      <td>NaN</td>\n",
       "      <td>NaN</td>\n",
       "      <td>Tshirt</td>\n",
       "      <td>grey</td>\n",
       "      <td>eminem.jpeg</td>\n",
       "    </tr>\n",
       "  </tbody>\n",
       "</table>\n",
       "</div>"
      ],
      "text/plain": [
       "  bottom bottom_color     top top_color                        id\n",
       "0   Sari        black     NaN       NaN    asap_rocky_outfit.jpeg\n",
       "0   Pant         grey   shirt     beige   asap_rocky_outfit7.jpeg\n",
       "0    NaN          NaN   shirt      grey   asap_rocky_outfit7.jpeg\n",
       "0    NaN          NaN   shirt    silver   asap_rocky_outfit7.jpeg\n",
       "0    NaN          NaN   shirt    silver              outfit1.jpeg\n",
       "0    NaN          NaN  Tshirt      grey  asap_rocky_outfit10.jpeg\n",
       "0    NaN          NaN   shirt     black  asap_rocky_outfit10.jpeg\n",
       "0    NaN          NaN  Tshirt      grey  asap_rocky_outfit11.jpeg\n",
       "0    NaN          NaN  Tshirt     black                asap1.jpeg\n",
       "0    NaN          NaN  Tshirt      grey                asap1.jpeg\n",
       "0    NaN          NaN  Tshirt     beige   asap_rocky_outfit1.jpeg\n",
       "0    NaN          NaN   shirt      grey               eminem.jpeg\n",
       "0    NaN          NaN  Tshirt     black               eminem.jpeg\n",
       "0    NaN          NaN  Tshirt      grey               eminem.jpeg"
      ]
     },
     "execution_count": 59,
     "metadata": {},
     "output_type": "execute_result"
    }
   ],
   "source": [
    "data_clothes_"
   ]
  },
  {
   "cell_type": "code",
   "execution_count": null,
   "metadata": {},
   "outputs": [],
   "source": []
  }
 ],
 "metadata": {
  "kernelspec": {
   "display_name": "ultra",
   "language": "python",
   "name": "python3"
  },
  "language_info": {
   "codemirror_mode": {
    "name": "ipython",
    "version": 3
   },
   "file_extension": ".py",
   "mimetype": "text/x-python",
   "name": "python",
   "nbconvert_exporter": "python",
   "pygments_lexer": "ipython3",
   "version": "3.12.3"
  }
 },
 "nbformat": 4,
 "nbformat_minor": 2
}
